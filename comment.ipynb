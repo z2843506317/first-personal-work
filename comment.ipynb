{
 "cells": [
  {
   "cell_type": "code",
   "execution_count": 12,
   "metadata": {},
   "outputs": [],
   "source": [
    "import requests\n",
    "import re\n",
    "headers = {\n",
    "'User-Agent': 'Mozilla/5.0 (Windows NT 10.0; WOW64) AppleWebKit/537.36 (KHTML, like Gecko) Chrome/85.0.4183.102 Safari/537.36'    \n",
    "}\n",
    "first = \"https://coral.qq.com/article/5963120294/comment/v2?callback=_article5963120294commentv2&orinum=10&oriorder=o&pageflag=1&cursor=\"\n",
    "second= \"&scorecursor=0&orirepnum=2&reporder=o&reppageflag=1&source=1&_=\"\n",
    "last = 1614156340075\n",
    "Cursor = \"0\"                                               #初始值为0\n",
    "total = 0\n",
    "with open('211806204.txt','a',encoding = 'utf-8') as file:\n",
    "        file.write(\"由于爬取时间过长，故只取前1000条评论\\n\")\n",
    "while(total < 1000):\n",
    "    url = first + Cursor + second + str(last)\n",
    "    last += 1\n",
    "    res=requests.get(url,headers=headers)\n",
    "    Cursor = re.findall('\"last\":\"(.*?)\",\"hasnext\"',res.text)[0]\n",
    "    content = re.findall('\"content\":\"(.*?)\",\"up\"',res.text)\n",
    "    for i in range(len(content)):\n",
    "        with open(\"211806204.txt\",\"a\",encoding = 'utf-8') as file:\n",
    "            file.write(content[i] + \"\\n\")\n",
    "    total = total + i + 1"
   ]
  },
  {
   "cell_type": "code",
   "execution_count": null,
   "metadata": {},
   "outputs": [],
   "source": []
  }
 ],
 "metadata": {
  "kernelspec": {
   "display_name": "Python 3",
   "language": "python",
   "name": "python3"
  },
  "language_info": {
   "codemirror_mode": {
    "name": "ipython",
    "version": 3
   },
   "file_extension": ".py",
   "mimetype": "text/x-python",
   "name": "python",
   "nbconvert_exporter": "python",
   "pygments_lexer": "ipython3",
   "version": "3.7.0"
  }
 },
 "nbformat": 4,
 "nbformat_minor": 2
}
