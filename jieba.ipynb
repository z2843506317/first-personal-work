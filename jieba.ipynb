{
 "cells": [
  {
   "cell_type": "code",
   "execution_count": 2,
   "metadata": {},
   "outputs": [
    {
     "name": "stderr",
     "output_type": "stream",
     "text": [
      "Building prefix dict from the default dictionary ...\n",
      "Dumping model to file cache C:\\Users\\haoge\\AppData\\Local\\Temp\\jieba.cache\n",
      "Loading model cost 0.680 seconds.\n",
      "Prefix dict has been built successfully.\n"
     ]
    }
   ],
   "source": [
    "import jieba\n",
    "import json\n",
    "txt = open('C:/Users/haoge/211806204.txt','r', encoding = 'utf-8').read()\n",
    "txt = jieba.lcut(txt)\n",
    "counts = {}\n",
    "wdic = {}\n",
    "diclist = []\n",
    "for word in txt:\n",
    "    if len(word) == 1:\n",
    "        continue\n",
    "    else:\n",
    "        rword = word\n",
    "        counts[rword] = counts.get(rword,0) + 1             \n",
    "li = list(counts.items())\n",
    "li.sort(key=lambda x:x[1], reverse=True)\n",
    "for i in range(len(li)):\n",
    "    dlist = {}\n",
    "    dlist[\"name\"] = li[i][0]\n",
    "    dlist[\"value\"] = li[i][1]\n",
    "    diclist.append(dlist)\n",
    "wdic[\"data\"] = diclist\n",
    "with open(\"jiba.json\",\"w\",encoding='utf-8') as file:\n",
    "    json.dump(wdic,file,ensure_ascii=False, indent=4)"
   ]
  },
  {
   "cell_type": "code",
   "execution_count": null,
   "metadata": {},
   "outputs": [],
   "source": []
  }
 ],
 "metadata": {
  "kernelspec": {
   "display_name": "Python 3",
   "language": "python",
   "name": "python3"
  },
  "language_info": {
   "codemirror_mode": {
    "name": "ipython",
    "version": 3
   },
   "file_extension": ".py",
   "mimetype": "text/x-python",
   "name": "python",
   "nbconvert_exporter": "python",
   "pygments_lexer": "ipython3",
   "version": "3.7.0"
  }
 },
 "nbformat": 4,
 "nbformat_minor": 2
}
